{
 "cells": [
  {
   "cell_type": "markdown",
   "metadata": {},
   "source": [
    "### Q2. Write a program that takes two numbers as input and checks whether the first number is divisible by the second number."
   ]
  },
  {
   "cell_type": "code",
   "execution_count": 3,
   "metadata": {},
   "outputs": [
    {
     "name": "stdout",
     "output_type": "stream",
     "text": [
      "divisible\n"
     ]
    }
   ],
   "source": [
    "x=int(input())\n",
    "y=int(input())\n",
    "if (y % x) ==0:\n",
    "    print(\"divisible\")\n",
    "else:\n",
    "    print(\"not divisible\")"
   ]
  },
  {
   "cell_type": "markdown",
   "metadata": {},
   "source": [
    "### Q3. Write a program to print the first five odd numbers."
   ]
  },
  {
   "cell_type": "code",
   "execution_count": 9,
   "metadata": {},
   "outputs": [
    {
     "name": "stdout",
     "output_type": "stream",
     "text": [
      "1\n",
      "3\n",
      "5\n",
      "7\n",
      "9\n"
     ]
    }
   ],
   "source": [
    "x=1\n",
    "for i in range(10):\n",
    "    if (x%2)==1:\n",
    "        print(x)\n",
    "        x+=1\n",
    "    else:\n",
    "        x+=1\n",
    "    "
   ]
  },
  {
   "cell_type": "markdown",
   "metadata": {},
   "source": [
    "### Q4. Create a list of numbers and write a program to find the sum of all elements in the list."
   ]
  },
  {
   "cell_type": "code",
   "execution_count": 12,
   "metadata": {},
   "outputs": [
    {
     "name": "stdout",
     "output_type": "stream",
     "text": [
      "15\n"
     ]
    }
   ],
   "source": [
    "l1=[1,2,3,4,5]\n",
    "sum=0\n",
    "for i in l1:\n",
    "    sum+=i\n",
    "print(sum)    "
   ]
  },
  {
   "cell_type": "markdown",
   "metadata": {},
   "source": [
    "### Q5. Write a program that takes a year as input and prints whether it's a leap year.\n",
    "    Every year that is exactly divisible by four is a leap year, except for years that are exactly divisible by 100, but these centurial years are leap years if they are exactly divisible by 400. For example, the years 1700, 1800, and 1900 are not leap years, but the years 1600 and 2000 are."
   ]
  },
  {
   "cell_type": "code",
   "execution_count": null,
   "metadata": {},
   "outputs": [],
   "source": [
    "year=input()\n",
    "if year%4==0:\n",
    "    print(\"leap year\")\n",
    "elif year%100==0 and year%400==0:\n",
    "    print(\"leap year\")\n",
    "else:\n",
    "    print('not a leap year')\n"
   ]
  },
  {
   "cell_type": "markdown",
   "metadata": {},
   "source": [
    "### Q6. Write a program that takes a string as input and prints it in both uppercase and lowercase."
   ]
  },
  {
   "cell_type": "code",
   "execution_count": null,
   "metadata": {},
   "outputs": [],
   "source": [
    "x=input()\n",
    "print(x.upper())\n",
    "print(x.lower())"
   ]
  },
  {
   "cell_type": "markdown",
   "metadata": {},
   "source": [
    "### Q7. Create a list of five elements and remove the third element."
   ]
  },
  {
   "cell_type": "code",
   "execution_count": 18,
   "metadata": {},
   "outputs": [
    {
     "data": {
      "text/plain": [
       "[0, 1, 3, 4]"
      ]
     },
     "execution_count": 18,
     "metadata": {},
     "output_type": "execute_result"
    }
   ],
   "source": [
    "l1=[0,1,5,3,4]\n",
    "l1.remove(5)\n",
    "l1\n",
    "#l1=[0,1,5,3,4]\n",
    "#l1.pop(2)\n",
    "#l1"
   ]
  },
  {
   "cell_type": "markdown",
   "metadata": {},
   "source": [
    "### Q9. Create a list of numbers and write a program to sort it in ascending order."
   ]
  },
  {
   "cell_type": "code",
   "execution_count": 20,
   "metadata": {},
   "outputs": [
    {
     "data": {
      "text/plain": [
       "[1, 2, 3, 4, 6, 7, 9]"
      ]
     },
     "execution_count": 20,
     "metadata": {},
     "output_type": "execute_result"
    }
   ],
   "source": [
    "l2=[2,1,6,4,7,3,9]\n",
    "l2.sort()\n",
    "l2"
   ]
  },
  {
   "cell_type": "markdown",
   "metadata": {},
   "source": [
    "### Q10. Write a program to print the multiplication table of a given number."
   ]
  },
  {
   "cell_type": "code",
   "execution_count": 24,
   "metadata": {},
   "outputs": [
    {
     "name": "stdout",
     "output_type": "stream",
     "text": [
      "4 * 1 = 4\n",
      "4 * 2 = 8\n",
      "4 * 3 = 12\n",
      "4 * 4 = 16\n",
      "4 * 5 = 20\n",
      "4 * 6 = 24\n",
      "4 * 7 = 28\n",
      "4 * 8 = 32\n",
      "4 * 9 = 36\n",
      "4 * 10 = 40\n",
      "4 * 11 = 44\n",
      "4 * 12 = 48\n"
     ]
    }
   ],
   "source": [
    "x=int(input())\n",
    "for i in range(1,13):\n",
    "    print(f\"{x} * {i} =\",x*i)"
   ]
  },
  {
   "cell_type": "markdown",
   "metadata": {},
   "source": [
    "### Q11. Write a Python function square(num) that takes a number as input and returns its square."
   ]
  },
  {
   "cell_type": "code",
   "execution_count": 26,
   "metadata": {},
   "outputs": [
    {
     "name": "stdout",
     "output_type": "stream",
     "text": [
      "16\n"
     ]
    }
   ],
   "source": [
    "def square(num):\n",
    "    print(num*num)\n",
    "square(4)    "
   ]
  },
  {
   "cell_type": "markdown",
   "metadata": {},
   "source": [
    "### Q12. Write a Python function sum_of_digits(number) that takes an integer as input and returns the sum of its digits."
   ]
  },
  {
   "cell_type": "code",
   "execution_count": 28,
   "metadata": {},
   "outputs": [
    {
     "name": "stdout",
     "output_type": "stream",
     "text": [
      "6\n"
     ]
    }
   ],
   "source": [
    "def sumOfDigits(num):\n",
    "    sum=0\n",
    "    while num>0:\n",
    "        digit=num%10\n",
    "        sum+=digit\n",
    "        num=num//10\n",
    "    print(sum)\n",
    "sumOfDigits(123)    \n"
   ]
  },
  {
   "cell_type": "markdown",
   "metadata": {},
   "source": [
    "### Q13. Write a Python function reverse_string(s) that takes a string as input and returns the string in reverse order."
   ]
  },
  {
   "cell_type": "code",
   "execution_count": 30,
   "metadata": {},
   "outputs": [
    {
     "name": "stdout",
     "output_type": "stream",
     "text": [
      "odba\n"
     ]
    }
   ],
   "source": [
    "def reverse_string(s):\n",
    "    print(s[::-1])\n",
    "reverse_string(\"abdo\")    "
   ]
  },
  {
   "cell_type": "markdown",
   "metadata": {},
   "source": [
    "### Q14. Write a Python function word_count(sentence) that takes a sentence as input and returns the number of words in the sentence."
   ]
  },
  {
   "cell_type": "code",
   "execution_count": 32,
   "metadata": {},
   "outputs": [
    {
     "name": "stdout",
     "output_type": "stream",
     "text": [
      "4\n"
     ]
    }
   ],
   "source": [
    "def word_count():\n",
    "    sentence=input()\n",
    "    print(len(sentence))\n",
    "word_count()    "
   ]
  },
  {
   "cell_type": "markdown",
   "metadata": {},
   "source": [
    "### Q15. Write a Python function remove_elements(lst, n) that takes a list and an index n as input and removes the element at index n from the list."
   ]
  },
  {
   "cell_type": "code",
   "execution_count": 33,
   "metadata": {},
   "outputs": [
    {
     "name": "stdout",
     "output_type": "stream",
     "text": [
      "[1, 2, 4]\n"
     ]
    }
   ],
   "source": [
    "def remove_elements(l1,n):\n",
    "    l1.pop(n)\n",
    "    print(l1)\n",
    "remove_elements([1,2,3,4],2)    "
   ]
  },
  {
   "cell_type": "markdown",
   "metadata": {},
   "source": [
    "### Q16. Write a Python function duplicate_list(lst) that takes a list as input and returns a new list that duplicates the elements of the original list."
   ]
  },
  {
   "cell_type": "code",
   "execution_count": 36,
   "metadata": {},
   "outputs": [
    {
     "name": "stdout",
     "output_type": "stream",
     "text": [
      "old list [1, 2, 3]\n",
      "new list [4, 5, 6]\n"
     ]
    }
   ],
   "source": [
    "def duplicate_list(l1):\n",
    "    l2=[1,2,3]\n",
    "    print(\"old list\",l2)\n",
    "    l2=l1\n",
    "    print(\"new list\",l2)\n",
    "l1=[4,5,6]\n",
    "duplicate_list(l1)"
   ]
  },
  {
   "cell_type": "markdown",
   "metadata": {},
   "source": [
    "### Q17. Write a Python function is_divisible(num1, num2) that takes two numbers as input and returns True if the first number is divisible by the second number, and False otherwise."
   ]
  },
  {
   "cell_type": "code",
   "execution_count": 38,
   "metadata": {},
   "outputs": [
    {
     "name": "stdout",
     "output_type": "stream",
     "text": [
      "true\n"
     ]
    }
   ],
   "source": [
    "def is_divisible(num1,num2):\n",
    "    if num2%num1==0:\n",
    "        print(\"true\")\n",
    "    else:\n",
    "        print(\"false\")\n",
    "is_divisible(2,4)        "
   ]
  },
  {
   "cell_type": "markdown",
   "metadata": {},
   "source": [
    "### Q18. Write a Python function power(base, exponent) that takes a base and an exponent as input and returns the result of the base raised to the exponent."
   ]
  },
  {
   "cell_type": "code",
   "execution_count": 39,
   "metadata": {},
   "outputs": [
    {
     "name": "stdout",
     "output_type": "stream",
     "text": [
      "8\n"
     ]
    }
   ],
   "source": [
    "def power(base, exponent):\n",
    "    print(base**exponent)\n",
    "power(2,3)    "
   ]
  },
  {
   "cell_type": "markdown",
   "metadata": {},
   "source": [
    "### Q19. Write a program which will find all such numbers which are divisible by 7 but are not divisible by 5, between 2000 and 3000 (both included). The numbers obtained should be printed in a comma-separated sequence on a single line.\n"
   ]
  },
  {
   "cell_type": "code",
   "execution_count": 46,
   "metadata": {},
   "outputs": [
    {
     "name": "stdout",
     "output_type": "stream",
     "text": [
      "2002,2009,2016,2023,2037,2044,2051,2058,2072,2079,2086,2093,2107,2114,2121,2128,2142,2149,2156,2163,2177,2184,2191,2198,2212,2219,2226,2233,2247,2254,2261,2268,2282,2289,2296,2303,2317,2324,2331,2338,2352,2359,2366,2373,2387,2394,2401,2408,2422,2429,2436,2443,2457,2464,2471,2478,2492,2499,2506,2513,2527,2534,2541,2548,2562,2569,2576,2583,2597,2604,2611,2618,2632,2639,2646,2653,2667,2674,2681,2688,2702,2709,2716,2723,2737,2744,2751,2758,2772,2779,2786,2793,2807,2814,2821,2828,2842,2849,2856,2863,2877,2884,2891,2898,2912,2919,2926,2933,2947,2954,2961,2968,2982,2989,2996\n"
     ]
    }
   ],
   "source": [
    "numbers=[]\n",
    "for i in range(2000,3001):\n",
    "    if i%7==0 and i%5!=0:\n",
    "        numbers.append(str(i))\n",
    "print(\",\".join(numbers))"
   ]
  },
  {
   "cell_type": "markdown",
   "metadata": {},
   "source": [
    "### 20. Write a program which can compute the factorial of a given numbers. The results should be printed in a comma-separated sequence on a single line.\n",
    "    5 8\n",
    "    Then, the output should be:\n",
    "    120,40320"
   ]
  },
  {
   "cell_type": "code",
   "execution_count": 10,
   "metadata": {},
   "outputs": [
    {
     "name": "stdout",
     "output_type": "stream",
     "text": [
      "120 , 40320\n"
     ]
    }
   ],
   "source": [
    "def factorial(n):\n",
    "    if n==1:\n",
    "        return 1\n",
    "    else:\n",
    "        return n * factorial(n-1)\n",
    "x=int(input())\n",
    "y=int(input())\n",
    "factorial_x=factorial(x)  \n",
    "factorial_y=factorial(y)      \n",
    "print(f\"{factorial_x} , {factorial_y}\")    \n",
    "    "
   ]
  },
  {
   "cell_type": "markdown",
   "metadata": {},
   "source": [
    "### 21. With a given integral number n, write a program to generate a dictionary that contains (i, i*i) such that is an integral number between 1 and n (both included). and then the program should print the dictionary.\n",
    "    Suppose the following input is supplied to the program:\n",
    "    8\n",
    "    Then, the output should be:\n",
    "    {1: 1, 2: 4, 3: 9, 4: 16, 5: 25, 6: 36, 7: 49, 8: 64}"
   ]
  },
  {
   "cell_type": "code",
   "execution_count": 4,
   "metadata": {},
   "outputs": [
    {
     "name": "stdout",
     "output_type": "stream",
     "text": [
      "{1: 1, 2: 4, 3: 9, 4: 16, 5: 25}\n"
     ]
    }
   ],
   "source": [
    "num=int(input())\n",
    "d={i: i*i for i in range(1,num+1)}\n",
    "print(d)\n"
   ]
  },
  {
   "cell_type": "markdown",
   "metadata": {},
   "source": [
    "### 22. Write a program which accepts a sequence of comma-separated numbers from console and generate a list and a tuple which contains every number. Suppose the following input is supplied to the program:\n",
    "    34,67,55,33,12,98\n",
    "    Then, the output should be:\n",
    "    ['34', '67', '55', '33', '12', '98']\n",
    "    ('34', '67', '55', '33', '12', '98')"
   ]
  },
  {
   "cell_type": "code",
   "execution_count": 9,
   "metadata": {},
   "outputs": [
    {
     "name": "stdout",
     "output_type": "stream",
     "text": [
      "['1', '2', '3', '4', '5', '6', '7']\n",
      "('1', '2', '3', '4', '5', '6', '7')\n"
     ]
    }
   ],
   "source": [
    "l1=input().split(',')\n",
    "t1=tuple(l1)\n",
    "print(l1)\n",
    "print(t1)"
   ]
  },
  {
   "cell_type": "markdown",
   "metadata": {},
   "source": [
    "### 23. Write a program that calculates and prints the value according to the given formula:\n",
    "    Q = Square root of [(2 * C * D) / H], \n",
    "        C is 50. H is 30.\n",
    "        D is the variable whose values should be input to your program in a comma-separated sequence.\n",
    "\n",
    "- Example\n",
    "    - Let us assume the following comma separated input sequence is given to the program:\n",
    "        100,150,180\n",
    "    - The output of the program should be:\n",
    "        18,22,24"
   ]
  },
  {
   "cell_type": "code",
   "execution_count": 20,
   "metadata": {},
   "outputs": [
    {
     "name": "stdout",
     "output_type": "stream",
     "text": [
      "18,22,24\n"
     ]
    }
   ],
   "source": [
    "import math\n",
    "c=50\n",
    "h=30\n",
    "l1=input().split(',')\n",
    "def calculate(l1):\n",
    "    results=[]\n",
    "    for i in l1:\n",
    "        i = int(i)\n",
    "        q=math.sqrt((2*c*i)/h)\n",
    "        results.append(str(int(q)))\n",
    "    print(\",\".join(results))    \n",
    "calculate(l1)"
   ]
  },
  {
   "cell_type": "markdown",
   "metadata": {},
   "source": [
    "### 24. Write a program which takes 2 digits, X,Y as input and generates a 2-dimensional array. The element value in the i-th row and j-th column of the array should be i*j.\n",
    "    Example\n",
    "        Suppose the following inputs are given to the program:\n",
    "        3,5\n",
    "        Then, the output of the program should be:\n",
    "        [[0, 0, 0, 0, 0], [0, 1, 2, 3, 4], [0, 2, 4, 6, 8]] "
   ]
  },
  {
   "cell_type": "code",
   "execution_count": 26,
   "metadata": {},
   "outputs": [
    {
     "name": "stdout",
     "output_type": "stream",
     "text": [
      "[[0, 0, 0, 0, 0], [0, 1, 2, 3, 4], [0, 2, 4, 6, 8]]\n"
     ]
    }
   ],
   "source": [
    "digits=input().split(\",\")\n",
    "x=int(digits[0])\n",
    "y=int(digits[1])\n",
    "arr=[]\n",
    "for i in range(x):\n",
    "    rows=[]\n",
    "    for j in range(y):\n",
    "        rows.append(i*j)\n",
    "    arr.append(rows) \n",
    "print(arr)   "
   ]
  },
  {
   "cell_type": "markdown",
   "metadata": {},
   "source": [
    "### 25. Write a program that accepts a sequence of whitespace separated words as input and prints the words after removing all duplicate words and sorting them alphanumerically. Suppose the following input is supplied to the program:\n",
    "    hello world and practice makes perfect and hello world again\n",
    "    Then, the output should be:\n",
    "    again and hello makes perfect practice world"
   ]
  },
  {
   "cell_type": "code",
   "execution_count": 35,
   "metadata": {},
   "outputs": [
    {
     "name": "stdout",
     "output_type": "stream",
     "text": [
      "hello world and practice makes perfect and hello world again\n",
      "again and hello makes perfect practice world\n"
     ]
    }
   ],
   "source": [
    "words=input()\n",
    "print(words)\n",
    "words=words.split(' ')\n",
    "words=set(words)\n",
    "words=sorted(words)\n",
    "words = str(\" \".join(words))\n",
    "print(words)    "
   ]
  },
  {
   "cell_type": "markdown",
   "metadata": {},
   "source": [
    "### 26.Write a program which accepts a sequence of comma separated 4 digit binary numbers as its input and then check whether they are divisible by 5 or not. The numbers that are divisible by 5 are to be printed in a comma separated sequence.\n",
    "\n",
    "    Example:\n",
    "    0100,0011,1010,1001\n",
    "    Then the output should be:\n",
    "    1010"
   ]
  },
  {
   "cell_type": "code",
   "execution_count": 49,
   "metadata": {},
   "outputs": [
    {
     "name": "stdout",
     "output_type": "stream",
     "text": [
      "1010,1111\n"
     ]
    }
   ],
   "source": [
    "binary=input().split(\",\")\n",
    "l1=[]\n",
    "for i in binary:\n",
    "    i=int(i,2)\n",
    "    if i%5==0:\n",
    "        l1.append(bin(i)[2:])\n",
    "       \n",
    "print(str(\",\".join(l1)))"
   ]
  },
  {
   "cell_type": "markdown",
   "metadata": {},
   "source": [
    "### 27. Write a program, which will find all such numbers between 1000 and 3000 (both included) such that each digit of the number is an even number. The numbers obtained should be printed in a comma-separated sequence on a single line.\n"
   ]
  },
  {
   "cell_type": "code",
   "execution_count": 56,
   "metadata": {},
   "outputs": [
    {
     "name": "stdout",
     "output_type": "stream",
     "text": [
      "2000,2002,2004,2006,2008,2020,2022,2024,2026,2028,2040,2042,2044,2046,2048,2060,2062,2064,2066,2068,2080,2082,2084,2086,2088,2200,2202,2204,2206,2208,2220,2222,2224,2226,2228,2240,2242,2244,2246,2248,2260,2262,2264,2266,2268,2280,2282,2284,2286,2288,2400,2402,2404,2406,2408,2420,2422,2424,2426,2428,2440,2442,2444,2446,2448,2460,2462,2464,2466,2468,2480,2482,2484,2486,2488,2600,2602,2604,2606,2608,2620,2622,2624,2626,2628,2640,2642,2644,2646,2648,2660,2662,2664,2666,2668,2680,2682,2684,2686,2688,2800,2802,2804,2806,2808,2820,2822,2824,2826,2828,2840,2842,2844,2846,2848,2860,2862,2864,2866,2868,2880,2882,2884,2886,2888\n"
     ]
    }
   ],
   "source": [
    "result = []\n",
    "for num in range(1000, 3001):\n",
    "    num = str(num)  \n",
    "    isEven = True  \n",
    "    for digits in num:\n",
    "        if int(digits) % 2 != 0:  \n",
    "            isEven = False\n",
    "            break  \n",
    "    if isEven:\n",
    "        result.append(num)  \n",
    "\n",
    "print(\",\".join(result))\n"
   ]
  },
  {
   "cell_type": "markdown",
   "metadata": {},
   "source": [
    "### 28. Write a program that accepts a sentence and calculate the number of letters and digits. Suppose the following input is supplied to the program:\n",
    "\n",
    "    \"hello world 123\"\n",
    "    Then, the output should be:\n",
    "        LETTERS 10\n",
    "        DIGITS 3"
   ]
  },
  {
   "cell_type": "code",
   "execution_count": 57,
   "metadata": {},
   "outputs": [
    {
     "name": "stdout",
     "output_type": "stream",
     "text": [
      "letters = 10\n",
      "digits = 3\n"
     ]
    }
   ],
   "source": [
    "sentence=input()\n",
    "letter=0\n",
    "digits=0\n",
    "for i in sentence:\n",
    "    if i.isalpha():\n",
    "        letter+=1\n",
    "    elif i.isdigit():\n",
    "        digits+=1\n",
    "print(\"letters =\",letter)       \n",
    "print(\"digits =\",digits)"
   ]
  },
  {
   "cell_type": "markdown",
   "metadata": {},
   "source": [
    "### 29. Write a program that accepts a sentence and calculate the number of upper case letters and lower case letters. Suppose the following input is supplied to the program:\n",
    "\n",
    "    Hello World\n",
    "    Then, the output should be:\n",
    "        UPPER CASE 2\n",
    "        LOWER CASE 8"
   ]
  },
  {
   "cell_type": "code",
   "execution_count": 63,
   "metadata": {},
   "outputs": [
    {
     "name": "stdout",
     "output_type": "stream",
     "text": [
      "Upper Case = 2\n",
      "Lower Case = 8\n"
     ]
    }
   ],
   "source": [
    "sentence=input()\n",
    "upper_Case=0\n",
    "lower_Case=0\n",
    "for i in sentence:\n",
    "    if i.isupper():\n",
    "        upper_Case+=1\n",
    "    elif i.islower():\n",
    "        lower_Case+=1\n",
    "        \n",
    "print(\"Upper Case =\",upper_Case)       \n",
    "print(\"Lower Case =\",lower_Case)"
   ]
  },
  {
   "cell_type": "markdown",
   "metadata": {},
   "source": [
    "### 30. Use a list comprehension to square each odd number in a list. The list is input by a sequence of comma-separated numbers. Suppose the following input is supplied to the program:\n",
    "    1,2,3,4,5,6,7,8,9\n",
    "    Then, the output should be:\n",
    "    1,9,25,49,81"
   ]
  },
  {
   "cell_type": "code",
   "execution_count": 64,
   "metadata": {},
   "outputs": [
    {
     "name": "stdout",
     "output_type": "stream",
     "text": [
      "[1, 9, 25, 49, 81]\n"
     ]
    }
   ],
   "source": [
    "numbers=input().split(\",\")\n",
    "oddlist=[]\n",
    "for i in numbers:\n",
    "    i=int(i)\n",
    "    if i%2==1:\n",
    "        oddlist.append(i*i)\n",
    "print(oddlist)        "
   ]
  },
  {
   "cell_type": "markdown",
   "metadata": {},
   "source": [
    "### 31. You are required to write a program to sort the (name, age, height) tuples by ascending order where name is string, age and height are numbers. The tuples are input by console. The sort criteria is:\n",
    "    1: Sort based on name;\n",
    "    2: Then sort based on age;\n",
    "    3: Then sort by score.\n",
    "    The priority is that name > age > score.\n",
    "\n",
    "    If the following tuples are given as input to the program:\n",
    "        Tom,19,80\n",
    "        John,20,90\n",
    "        Jony,17,91\n",
    "        Jony,17,93\n",
    "        Json,21,85\n",
    "    Then, the output of the program should be:\n",
    "    [('John', '20', '90'), ('Jony', '17', '91'), ('Jony', '17', '93'), ('Json', '21', '85'), ('Tom', '19', '80')]\n"
   ]
  },
  {
   "cell_type": "code",
   "execution_count": 69,
   "metadata": {},
   "outputs": [
    {
     "name": "stdout",
     "output_type": "stream",
     "text": [
      "[('John', 20, 90), ('Jony', 17, 91), ('Jony', 17, 93), ('Json', 21, 85), ('Tom', 19, 80)]\n"
     ]
    }
   ],
   "source": [
    "tuples=[('Tom', 19, 80),\n",
    "('John', 20, 90),\n",
    "('Jony', 17, 91),\n",
    "('Jony', 17, 93),\n",
    "('Json', 21, 85)]\n",
    "sortedTuple=sorted(tuples)\n",
    "print(sortedTuple)\n",
    "        "
   ]
  },
  {
   "cell_type": "markdown",
   "metadata": {},
   "source": [
    "### 32. Define a function that can accept an integer number as input and print the \"It is an even number\" if the number is even, otherwise print \"It is an odd number\"."
   ]
  },
  {
   "cell_type": "code",
   "execution_count": 70,
   "metadata": {},
   "outputs": [
    {
     "name": "stdout",
     "output_type": "stream",
     "text": [
      "even\n"
     ]
    }
   ],
   "source": [
    "def even_odd(num):\n",
    "    if num%2==0:\n",
    "        print('even')\n",
    "    else:\n",
    "        print('odd')\n",
    "even_odd(200)        "
   ]
  },
  {
   "cell_type": "markdown",
   "metadata": {},
   "source": [
    "### 33.The Fibonacci Sequence is computed based on the following formula:\n",
    "    f(n)=0 if n=0\n",
    "    f(n)=1 if n=1\n",
    "    f(n)=f(n-1)+f(n-2) if n>1\n",
    "\n",
    "- Please write a program using list comprehension to print the Fibonacci Sequence in comma separated form with a given n input by console.\n",
    "\n",
    "- Example:\n",
    "\n",
    "    If the following n is given as input to the program:\n",
    "    7\n",
    "    Then, the output of the program should be:\n",
    "    0,1,1,2,3,5,8"
   ]
  },
  {
   "cell_type": "code",
   "execution_count": 81,
   "metadata": {},
   "outputs": [
    {
     "name": "stdout",
     "output_type": "stream",
     "text": [
      "[0, 1, 1, 2, 3, 5, 8]\n"
     ]
    }
   ],
   "source": [
    "num=int(input())\n",
    "fibList=[]\n",
    "def fib(num):\n",
    "    if num==0:\n",
    "        return 0\n",
    "    elif num==1:\n",
    "        return 1\n",
    "    else:\n",
    "        return (fib(num-1)+fib(num-2))\n",
    "        \n",
    "fib_list = [fib(i) for i in range(num)]\n",
    "print(fib_list)         "
   ]
  },
  {
   "cell_type": "markdown",
   "metadata": {},
   "source": [
    "### 47. Create a tuple with three elements and unpack it into three variables."
   ]
  },
  {
   "cell_type": "code",
   "execution_count": null,
   "metadata": {},
   "outputs": [],
   "source": []
  },
  {
   "cell_type": "markdown",
   "metadata": {},
   "source": [
    "### 48. Create a dictionary representing a person with keys \"name,\" \"age,\" and \"city.\""
   ]
  },
  {
   "cell_type": "code",
   "execution_count": 114,
   "metadata": {},
   "outputs": [],
   "source": [
    "d={\"Name\":['ahmed','abdo','mohammed'],\"Age\":[12,32,43],\"City\":['Cairo','Giza','Alex']}"
   ]
  },
  {
   "cell_type": "markdown",
   "metadata": {},
   "source": [
    "### 49. Access and print the value associated with the \"age\" key in the dictionary"
   ]
  },
  {
   "cell_type": "code",
   "execution_count": 105,
   "metadata": {},
   "outputs": [
    {
     "data": {
      "text/plain": [
       "[12, 32, 43]"
      ]
     },
     "execution_count": 105,
     "metadata": {},
     "output_type": "execute_result"
    }
   ],
   "source": [
    "d.get(\"Age\")"
   ]
  },
  {
   "cell_type": "markdown",
   "metadata": {},
   "source": [
    "### 50. Update the age in the dictionary to a new value."
   ]
  },
  {
   "cell_type": "code",
   "execution_count": 115,
   "metadata": {},
   "outputs": [
    {
     "data": {
      "text/plain": [
       "{'Name': ['ahmed', 'abdo', 'mohammed'],\n",
       " 'Age': [30, 20, 15],\n",
       " 'City': ['Cairo', 'Giza', 'Alex']}"
      ]
     },
     "execution_count": 115,
     "metadata": {},
     "output_type": "execute_result"
    }
   ],
   "source": [
    "d.update({\"Age\":[30, 20, 15]})\n",
    "d"
   ]
  },
  {
   "cell_type": "markdown",
   "metadata": {},
   "source": [
    "### 51. Iterate through the keys and values in the dictionary and print them."
   ]
  },
  {
   "cell_type": "code",
   "execution_count": 107,
   "metadata": {},
   "outputs": [
    {
     "name": "stdout",
     "output_type": "stream",
     "text": [
      "1 : Name: ahmed, Age: 30, City: Cairo\n",
      "2 : Name: abdo, Age: 20, City: Giza\n",
      "3 : Name: mohammed, Age: 15, City: Alex\n"
     ]
    }
   ],
   "source": [
    "for i in range(len(d[\"Name\"])):\n",
    "    print(f\"{i+1} : Name: {d[\"Name\"][i]}, Age: {d[\"Age\"][i]}, City: {d[\"City\"][i]}\")"
   ]
  },
  {
   "cell_type": "markdown",
   "metadata": {},
   "source": [
    "### 52. Find and print the number of key-value pairs in the dictionary."
   ]
  },
  {
   "cell_type": "code",
   "execution_count": 108,
   "metadata": {},
   "outputs": [
    {
     "data": {
      "text/plain": [
       "dict_keys(['Name', 'Age', 'City'])"
      ]
     },
     "execution_count": 108,
     "metadata": {},
     "output_type": "execute_result"
    }
   ],
   "source": [
    "d.keys()"
   ]
  },
  {
   "cell_type": "markdown",
   "metadata": {},
   "source": [
    "### 53. Remove the \"city\" key from the dictionary."
   ]
  },
  {
   "cell_type": "code",
   "execution_count": 117,
   "metadata": {},
   "outputs": [
    {
     "data": {
      "text/plain": [
       "{'Name': ['ahmed', 'abdo', 'mohammed'],\n",
       " 'Age': [30, 20, 15],\n",
       " 'Occupation': ['Engineer', 'Teacher', 'Doctor'],\n",
       " 'ID': [1, 2, 3]}"
      ]
     },
     "execution_count": 117,
     "metadata": {},
     "output_type": "execute_result"
    }
   ],
   "source": [
    "d.pop(\"City\")\n",
    "d"
   ]
  },
  {
   "cell_type": "markdown",
   "metadata": {},
   "source": [
    "### 54. Check if the \"gender\" key exists in the dictionary and print the result."
   ]
  },
  {
   "cell_type": "code",
   "execution_count": 111,
   "metadata": {},
   "outputs": [
    {
     "name": "stdout",
     "output_type": "stream",
     "text": [
      "don't exist\n"
     ]
    }
   ],
   "source": [
    "\n",
    "if d.get(\"gender\")==None:\n",
    "    print(\"don't exist\")\n",
    "else:\n",
    "    print(\"exists\")"
   ]
  },
  {
   "cell_type": "markdown",
   "metadata": {},
   "source": [
    "### 55. Create a second dictionary with additional information and merge it with the original dictionary."
   ]
  },
  {
   "cell_type": "code",
   "execution_count": 118,
   "metadata": {},
   "outputs": [
    {
     "data": {
      "text/plain": [
       "{'Name': ['ahmed', 'abdo', 'mohammed'],\n",
       " 'Age': [30, 20, 15],\n",
       " 'Occupation': ['Engineer', 'Teacher', 'Doctor'],\n",
       " 'ID': [1, 2, 3]}"
      ]
     },
     "execution_count": 118,
     "metadata": {},
     "output_type": "execute_result"
    }
   ],
   "source": [
    "d2={\"Occupation\": ['Engineer', 'Teacher', 'Doctor'],\"ID\": [1, 2, 3]}\n",
    "for key, value in d2.items():\n",
    "    d[key] = value\n",
    "d    "
   ]
  },
  {
   "cell_type": "markdown",
   "metadata": {},
   "source": [
    "### 56. Write a program to get the keys of the dictionary as a list."
   ]
  },
  {
   "cell_type": "code",
   "execution_count": 119,
   "metadata": {},
   "outputs": [
    {
     "data": {
      "text/plain": [
       "['Name', 'Age', 'Occupation', 'ID']"
      ]
     },
     "execution_count": 119,
     "metadata": {},
     "output_type": "execute_result"
    }
   ],
   "source": [
    "keyList = list(d.keys())\n",
    "keyList"
   ]
  },
  {
   "cell_type": "markdown",
   "metadata": {},
   "source": [
    "### 57. Write a program to get the values of the dictionary as a list."
   ]
  },
  {
   "cell_type": "code",
   "execution_count": 121,
   "metadata": {},
   "outputs": [
    {
     "data": {
      "text/plain": [
       "[['ahmed', 'abdo', 'mohammed'],\n",
       " [30, 20, 15],\n",
       " ['Engineer', 'Teacher', 'Doctor'],\n",
       " [1, 2, 3]]"
      ]
     },
     "execution_count": 121,
     "metadata": {},
     "output_type": "execute_result"
    }
   ],
   "source": [
    "valuesList=list(d.values())\n",
    "valuesList"
   ]
  },
  {
   "cell_type": "markdown",
   "metadata": {},
   "source": [
    "### 58. Remove the key-value pair with the \"name\" key from the dictionary."
   ]
  },
  {
   "cell_type": "code",
   "execution_count": 122,
   "metadata": {},
   "outputs": [
    {
     "data": {
      "text/plain": [
       "{'Age': [30, 20, 15],\n",
       " 'Occupation': ['Engineer', 'Teacher', 'Doctor'],\n",
       " 'ID': [1, 2, 3]}"
      ]
     },
     "execution_count": 122,
     "metadata": {},
     "output_type": "execute_result"
    }
   ],
   "source": [
    "d.pop(\"Name\")\n",
    "d"
   ]
  },
  {
   "cell_type": "markdown",
   "metadata": {},
   "source": [
    "### 59. Clear all items from the dictionary."
   ]
  },
  {
   "cell_type": "code",
   "execution_count": 123,
   "metadata": {},
   "outputs": [
    {
     "data": {
      "text/plain": [
       "{}"
      ]
     },
     "execution_count": 123,
     "metadata": {},
     "output_type": "execute_result"
    }
   ],
   "source": [
    "d.clear()\n",
    "d"
   ]
  },
  {
   "cell_type": "markdown",
   "metadata": {},
   "source": [
    "### 60. Write a program to print the dictionary keys in sorted order."
   ]
  },
  {
   "cell_type": "code",
   "execution_count": 134,
   "metadata": {},
   "outputs": [
    {
     "name": "stdout",
     "output_type": "stream",
     "text": [
      "['Age', 'City', 'Name', 'Salary']\n"
     ]
    }
   ],
   "source": [
    "d = {\"Name\": \"ahmed\",\"City\": \"Cairo\",\"Age\":30,\"Salary\":1500}\n",
    "sorted_keys = sorted(d.keys())\n",
    "print(sorted_keys)"
   ]
  },
  {
   "cell_type": "markdown",
   "metadata": {},
   "source": [
    "### 61. Write a program to print the dictionary values in sorted order."
   ]
  },
  {
   "cell_type": "code",
   "execution_count": 144,
   "metadata": {},
   "outputs": [
    {
     "data": {
      "text/plain": [
       "['Cairo', 'ahmed']"
      ]
     },
     "execution_count": 144,
     "metadata": {},
     "output_type": "execute_result"
    }
   ],
   "source": [
    "d3 = {\"Name\": \"ahmed\",\"City\": \"Cairo\"}\n",
    "sorted_values = sorted(d3.values())\n",
    "sorted_values\n"
   ]
  },
  {
   "cell_type": "markdown",
   "metadata": {},
   "source": [
    "### 62. Find and print the key with the maximum value in the dictionary."
   ]
  },
  {
   "cell_type": "code",
   "execution_count": 142,
   "metadata": {},
   "outputs": [
    {
     "data": {
      "text/plain": [
       "'Salary'"
      ]
     },
     "execution_count": 142,
     "metadata": {},
     "output_type": "execute_result"
    }
   ],
   "source": [
    "max(d.keys())\n"
   ]
  },
  {
   "cell_type": "markdown",
   "metadata": {},
   "source": [
    "### 63. Find and print the key with the minimum value in the dictionary."
   ]
  },
  {
   "cell_type": "code",
   "execution_count": 140,
   "metadata": {},
   "outputs": [
    {
     "data": {
      "text/plain": [
       "'Age'"
      ]
     },
     "execution_count": 140,
     "metadata": {},
     "output_type": "execute_result"
    }
   ],
   "source": [
    "min(d.keys())"
   ]
  },
  {
   "cell_type": "markdown",
   "metadata": {},
   "source": [
    "### 64. Use dictionary comprehension to create a dictionary with squares of numbers from 1 to 5."
   ]
  },
  {
   "cell_type": "code",
   "execution_count": 143,
   "metadata": {},
   "outputs": [
    {
     "data": {
      "text/plain": [
       "{1: 1, 2: 4, 3: 9, 4: 16, 5: 25}"
      ]
     },
     "execution_count": 143,
     "metadata": {},
     "output_type": "execute_result"
    }
   ],
   "source": [
    "d4 = {num: num*num for num in range(1, 6)}\n",
    "d4"
   ]
  },
  {
   "cell_type": "markdown",
   "metadata": {},
   "source": [
    "### 65. Swap the keys and values in the dictionary and print the result."
   ]
  },
  {
   "cell_type": "code",
   "execution_count": 145,
   "metadata": {},
   "outputs": [
    {
     "data": {
      "text/plain": [
       "{'ahmed': 'Name', 30: 'Age', 'Cairo': 'City', 50000: 'Salary'}"
      ]
     },
     "execution_count": 145,
     "metadata": {},
     "output_type": "execute_result"
    }
   ],
   "source": [
    "d1 = {\"Name\": \"ahmed\",\"Age\": 30,\"City\": \"Cairo\",\"Salary\": 50000}\n",
    "d2 = {}\n",
    "\n",
    "for key, value in d1.items():\n",
    "    d2[value] = key\n",
    "d2    "
   ]
  },
  {
   "cell_type": "markdown",
   "metadata": {},
   "source": [
    "### 66. Create a list of integers with values 1 to 5."
   ]
  },
  {
   "cell_type": "code",
   "execution_count": 146,
   "metadata": {},
   "outputs": [],
   "source": [
    "l1=[1,2,3,4,5]"
   ]
  },
  {
   "cell_type": "markdown",
   "metadata": {},
   "source": [
    "### 67. Access and print the third element of the list."
   ]
  },
  {
   "cell_type": "code",
   "execution_count": 147,
   "metadata": {},
   "outputs": [
    {
     "data": {
      "text/plain": [
       "3"
      ]
     },
     "execution_count": 147,
     "metadata": {},
     "output_type": "execute_result"
    }
   ],
   "source": [
    "l1[2]"
   ]
  },
  {
   "cell_type": "markdown",
   "metadata": {},
   "source": [
    "### 68. Modify the second element of the list to have a new value."
   ]
  },
  {
   "cell_type": "code",
   "execution_count": 148,
   "metadata": {},
   "outputs": [
    {
     "data": {
      "text/plain": [
       "[1, 20, 3, 4, 5]"
      ]
     },
     "execution_count": 148,
     "metadata": {},
     "output_type": "execute_result"
    }
   ],
   "source": [
    "l1[1]=20\n",
    "l1"
   ]
  },
  {
   "cell_type": "markdown",
   "metadata": {},
   "source": [
    "### 69. Find and print the number of elements in the list."
   ]
  },
  {
   "cell_type": "code",
   "execution_count": 149,
   "metadata": {},
   "outputs": [
    {
     "data": {
      "text/plain": [
       "5"
      ]
     },
     "execution_count": 149,
     "metadata": {},
     "output_type": "execute_result"
    }
   ],
   "source": [
    "len(l1)"
   ]
  },
  {
   "cell_type": "markdown",
   "metadata": {},
   "source": [
    "### 70. Add a new element to the end of the list."
   ]
  },
  {
   "cell_type": "code",
   "execution_count": 150,
   "metadata": {},
   "outputs": [
    {
     "data": {
      "text/plain": [
       "[1, 20, 3, 4, 5, 6]"
      ]
     },
     "execution_count": 150,
     "metadata": {},
     "output_type": "execute_result"
    }
   ],
   "source": [
    "l1.append(6)\n",
    "l1"
   ]
  },
  {
   "cell_type": "markdown",
   "metadata": {},
   "source": [
    "### 71. Create two lists and concatenate them into a new list."
   ]
  },
  {
   "cell_type": "code",
   "execution_count": 152,
   "metadata": {},
   "outputs": [
    {
     "data": {
      "text/plain": [
       "[1, 2, 3, 4, 5, 6]"
      ]
     },
     "execution_count": 152,
     "metadata": {},
     "output_type": "execute_result"
    }
   ],
   "source": [
    "l2=[1,2,3]\n",
    "l3=[4,5,6]\n",
    "l4=l2+l3\n",
    "l4"
   ]
  },
  {
   "cell_type": "markdown",
   "metadata": {},
   "source": [
    "### 72. Repeat the list three times and print the result."
   ]
  },
  {
   "cell_type": "code",
   "execution_count": 153,
   "metadata": {},
   "outputs": [
    {
     "data": {
      "text/plain": [
       "[1, 2, 3, 4, 5, 6, 1, 2, 3, 4, 5, 6, 1, 2, 3, 4, 5, 6]"
      ]
     },
     "execution_count": 153,
     "metadata": {},
     "output_type": "execute_result"
    }
   ],
   "source": [
    "l5=l4 * 3\n",
    "l5"
   ]
  },
  {
   "cell_type": "markdown",
   "metadata": {},
   "source": [
    "### 73. Create a list of numbers from 1 to 10 and print only the elements from index 3 to 7."
   ]
  },
  {
   "cell_type": "code",
   "execution_count": 154,
   "metadata": {},
   "outputs": [
    {
     "name": "stdout",
     "output_type": "stream",
     "text": [
      "4\n",
      "5\n",
      "6\n",
      "7\n",
      "8\n"
     ]
    }
   ],
   "source": [
    "l1=[1,2,3,4,5,6,7,8,9,10]\n",
    "for i in range(l1[3],l1[8]):\n",
    "    print(i)"
   ]
  },
  {
   "cell_type": "markdown",
   "metadata": {},
   "source": [
    "### 74. Use a loop to print each element of the list."
   ]
  },
  {
   "cell_type": "code",
   "execution_count": 155,
   "metadata": {},
   "outputs": [
    {
     "name": "stdout",
     "output_type": "stream",
     "text": [
      "1\n",
      "2\n",
      "3\n",
      "4\n",
      "5\n",
      "6\n",
      "7\n",
      "8\n",
      "9\n",
      "10\n"
     ]
    }
   ],
   "source": [
    "for i in l1:\n",
    "    print(i)"
   ]
  },
  {
   "cell_type": "markdown",
   "metadata": {},
   "source": [
    "### 75. Write a program to sort the list in ascending order."
   ]
  },
  {
   "cell_type": "code",
   "execution_count": 157,
   "metadata": {},
   "outputs": [
    {
     "data": {
      "text/plain": [
       "[1, 2, 12, 20, 23, 23, 23, 34, 34, 35, 42, 54, 64, 65, 345]"
      ]
     },
     "execution_count": 157,
     "metadata": {},
     "output_type": "execute_result"
    }
   ],
   "source": [
    "l1=[20,34,54,64,23,12,23,34,345,65,35,23,42,1,2]\n",
    "l1.sort()\n",
    "l1"
   ]
  },
  {
   "cell_type": "markdown",
   "metadata": {},
   "source": [
    "### 76. Reverse the order of elements in the list."
   ]
  },
  {
   "cell_type": "code",
   "execution_count": 158,
   "metadata": {},
   "outputs": [
    {
     "data": {
      "text/plain": [
       "[345, 65, 64, 54, 42, 35, 34, 34, 23, 23, 23, 20, 12, 2, 1]"
      ]
     },
     "execution_count": 158,
     "metadata": {},
     "output_type": "execute_result"
    }
   ],
   "source": [
    "l1.reverse()\n",
    "l1"
   ]
  },
  {
   "cell_type": "markdown",
   "metadata": {},
   "source": [
    "### 77. Remove the third element from the list."
   ]
  },
  {
   "cell_type": "code",
   "execution_count": 160,
   "metadata": {},
   "outputs": [
    {
     "data": {
      "text/plain": [
       "[1, 2, 4]"
      ]
     },
     "execution_count": 160,
     "metadata": {},
     "output_type": "execute_result"
    }
   ],
   "source": [
    "l1=[1,2,3,4]\n",
    "l1.pop(2)\n",
    "l1"
   ]
  },
  {
   "cell_type": "markdown",
   "metadata": {},
   "source": [
    "### 78. Clear all elements from the list."
   ]
  },
  {
   "cell_type": "code",
   "execution_count": 161,
   "metadata": {},
   "outputs": [
    {
     "data": {
      "text/plain": [
       "[]"
      ]
     },
     "execution_count": 161,
     "metadata": {},
     "output_type": "execute_result"
    }
   ],
   "source": [
    "l1.clear()\n",
    "l1"
   ]
  },
  {
   "cell_type": "markdown",
   "metadata": {},
   "source": [
    "### 79. Use list comprehension to create a list of squares of numbers from 1 to 5."
   ]
  },
  {
   "cell_type": "code",
   "execution_count": 162,
   "metadata": {},
   "outputs": [
    {
     "data": {
      "text/plain": [
       "[1, 4, 9, 16, 25]"
      ]
     },
     "execution_count": 162,
     "metadata": {},
     "output_type": "execute_result"
    }
   ],
   "source": [
    "l1=[num**2 for num in range(1,6)]\n",
    "l1"
   ]
  },
  {
   "cell_type": "markdown",
   "metadata": {},
   "source": [
    "### 80. Create a list with three elements and unpack it into three variables."
   ]
  },
  {
   "cell_type": "code",
   "execution_count": 164,
   "metadata": {},
   "outputs": [
    {
     "name": "stdout",
     "output_type": "stream",
     "text": [
      "1 2 3\n"
     ]
    }
   ],
   "source": [
    "l1=[1,2,3]\n",
    "x1=l1[0]\n",
    "x2=l1[1]\n",
    "x3=l1[2]\n",
    "print(x1,x2,x3)"
   ]
  }
 ],
 "metadata": {
  "kernelspec": {
   "display_name": "Python 3",
   "language": "python",
   "name": "python3"
  },
  "language_info": {
   "codemirror_mode": {
    "name": "ipython",
    "version": 3
   },
   "file_extension": ".py",
   "mimetype": "text/x-python",
   "name": "python",
   "nbconvert_exporter": "python",
   "pygments_lexer": "ipython3",
   "version": "3.12.4"
  }
 },
 "nbformat": 4,
 "nbformat_minor": 2
}
