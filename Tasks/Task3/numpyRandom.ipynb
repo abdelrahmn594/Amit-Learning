{
 "cells": [
  {
   "cell_type": "markdown",
   "metadata": {},
   "source": [
    "### 1. Write a NumPy program to generate five random numbers from the normal distribution."
   ]
  },
  {
   "cell_type": "code",
   "execution_count": 3,
   "metadata": {},
   "outputs": [],
   "source": [
    "import numpy as np"
   ]
  },
  {
   "cell_type": "code",
   "execution_count": 4,
   "metadata": {},
   "outputs": [
    {
     "name": "stdout",
     "output_type": "stream",
     "text": [
      "[-0.17382758 -6.98735504 12.17168184 -6.43799464  1.97851925]\n"
     ]
    }
   ],
   "source": [
    "print(np.random.normal(0,10,5))"
   ]
  },
  {
   "cell_type": "markdown",
   "metadata": {},
   "source": [
    "### 2. Write a NumPy program to generate six random integers between 10 and 30."
   ]
  },
  {
   "cell_type": "code",
   "execution_count": 5,
   "metadata": {},
   "outputs": [
    {
     "name": "stdout",
     "output_type": "stream",
     "text": [
      "[25 18 14 22 15 10]\n"
     ]
    }
   ],
   "source": [
    "print(np.random.randint(10,30,6))"
   ]
  },
  {
   "cell_type": "markdown",
   "metadata": {},
   "source": [
    "### 3. Write a NumPy program to create a 3x3x3 array with random values."
   ]
  },
  {
   "cell_type": "code",
   "execution_count": 6,
   "metadata": {},
   "outputs": [
    {
     "name": "stdout",
     "output_type": "stream",
     "text": [
      "[[[15  7 88]\n",
      "  [48 90 56]\n",
      "  [ 5 81 34]]\n",
      "\n",
      " [[ 5 64 77]\n",
      "  [93 82 83]\n",
      "  [31 48 58]]\n",
      "\n",
      " [[52 59 45]\n",
      "  [68 49  2]\n",
      "  [49 50  9]]]\n"
     ]
    }
   ],
   "source": [
    "print(np.random.randint(1,100,27).reshape(3,3,3))"
   ]
  },
  {
   "cell_type": "markdown",
   "metadata": {},
   "source": [
    "### 4. Write a NumPy program to create a 5x5 array with random values and find the minimum and maximum values."
   ]
  },
  {
   "cell_type": "code",
   "execution_count": 7,
   "metadata": {},
   "outputs": [
    {
     "name": "stdout",
     "output_type": "stream",
     "text": [
      "[[23 92  6 26 48]\n",
      " [81 54 27 46 40]\n",
      " [20 99 15 92 73]\n",
      " [10  4 43  6 85]\n",
      " [22 77 71 23 10]]\n",
      "4\n",
      "99\n"
     ]
    }
   ],
   "source": [
    "arr=np.random.randint(1,100,25).reshape(5,5)\n",
    "print(f\"{arr}\\n{np.min(arr)}\\n{np.max(arr)}\")"
   ]
  },
  {
   "cell_type": "markdown",
   "metadata": {},
   "source": [
    "### 5. Write a NumPy program to create a random 10x4 array and extract the first five rows of the array and store them into a variable."
   ]
  },
  {
   "cell_type": "code",
   "execution_count": 9,
   "metadata": {},
   "outputs": [
    {
     "name": "stdout",
     "output_type": "stream",
     "text": [
      "[[27 29 27 25]\n",
      " [29  5 27  3]\n",
      " [24 13 20 26]\n",
      " [10 27 18 13]\n",
      " [ 6  1 23 19]\n",
      " [ 1 20 22 19]\n",
      " [12  5 27 18]\n",
      " [27 27 24 17]\n",
      " [24 23  3 11]\n",
      " [14  8  7 23]]\n",
      "=============\n",
      "[[27 29 27 25]\n",
      " [29  5 27  3]\n",
      " [24 13 20 26]\n",
      " [10 27 18 13]\n",
      " [ 6  1 23 19]]\n"
     ]
    }
   ],
   "source": [
    "arr=np.random.randint(1,30,40).reshape(10,4)\n",
    "print(arr)\n",
    "arr2=arr[[0,1,2,3,4],:]\n",
    "print('='*13)\n",
    "print(arr2)"
   ]
  },
  {
   "cell_type": "markdown",
   "metadata": {},
   "source": [
    "### 6. Write a NumPy program to shuffle numbers between 0 and 10 (inclusive)."
   ]
  },
  {
   "cell_type": "code",
   "execution_count": 11,
   "metadata": {},
   "outputs": [
    {
     "name": "stdout",
     "output_type": "stream",
     "text": [
      "[3 2 4 1]\n"
     ]
    }
   ],
   "source": [
    "arr=np.array([1,2,3,4])\n",
    "np.random.shuffle(arr)\n",
    "print(arr)"
   ]
  },
  {
   "cell_type": "markdown",
   "metadata": {},
   "source": [
    "### 7. Write a NumPy program to normalize a 3x3 random matrix."
   ]
  },
  {
   "cell_type": "code",
   "execution_count": 13,
   "metadata": {},
   "outputs": [
    {
     "name": "stdout",
     "output_type": "stream",
     "text": [
      "[[1 2 3]\n",
      " [4 5 6]\n",
      " [7 8 9]]\n",
      "[[0.    0.125 0.25 ]\n",
      " [0.375 0.5   0.625]\n",
      " [0.75  0.875 1.   ]]\n"
     ]
    }
   ],
   "source": [
    "m=np.arange(1,10).reshape(3,3)\n",
    "print(m)\n",
    "m = (m - m.min()) / (m.max() - m.min())\n",
    "print(m)"
   ]
  },
  {
   "cell_type": "markdown",
   "metadata": {},
   "source": [
    "### 8. Write a NumPy program to create a random vector of size 10 and sort it."
   ]
  },
  {
   "cell_type": "code",
   "execution_count": 16,
   "metadata": {},
   "outputs": [
    {
     "name": "stdout",
     "output_type": "stream",
     "text": [
      "[0.86104889 0.58191703 0.94600207 0.76035885 0.73592804 0.65819073\n",
      " 0.11078823 0.49110753 0.88636358 0.35644986]\n",
      "[0.11078823 0.35644986 0.49110753 0.58191703 0.65819073 0.73592804\n",
      " 0.76035885 0.86104889 0.88636358 0.94600207]\n"
     ]
    }
   ],
   "source": [
    "vec=np.random.rand(10)\n",
    "print(vec)\n",
    "vec=np.sort(vec)\n",
    "print(vec)"
   ]
  },
  {
   "cell_type": "markdown",
   "metadata": {},
   "source": [
    "### 9. Write a NumPy program to find the nearest value from a given value in an array."
   ]
  },
  {
   "cell_type": "code",
   "execution_count": null,
   "metadata": {},
   "outputs": [],
   "source": []
  },
  {
   "cell_type": "markdown",
   "metadata": {},
   "source": [
    "### 10. Write a NumPy program to check two random arrays are equal or not."
   ]
  },
  {
   "cell_type": "code",
   "execution_count": 27,
   "metadata": {},
   "outputs": [
    {
     "name": "stdout",
     "output_type": "stream",
     "text": [
      "[0 1 0 1] \n",
      "[0 1 0 1]\n",
      "True\n"
     ]
    }
   ],
   "source": [
    "arr1=np.random.randint(0,2,4)\n",
    "arr2=np.random.randint(0,2,4)\n",
    "print(f\"{arr1} \\n{arr2}\") \n",
    "print(np.allclose(arr1,arr2))"
   ]
  },
  {
   "cell_type": "markdown",
   "metadata": {},
   "source": [
    "### 11. Write a NumPy program to create random vector of size 15 and replace the maximum value by -1."
   ]
  },
  {
   "cell_type": "code",
   "execution_count": 33,
   "metadata": {},
   "outputs": [
    {
     "name": "stdout",
     "output_type": "stream",
     "text": [
      "[ 2 10 10  7  7  9  4  8 15  9  7 10  9 12 14]\n",
      "[ 2 10 10  7  7  9  4  8 -1  9  7 10  9 12 14]\n"
     ]
    }
   ],
   "source": [
    "vec=np.random.randint(0,16,15)\n",
    "print(vec)\n",
    "vec[vec.argmax()]=-1\n",
    "print(vec)"
   ]
  },
  {
   "cell_type": "markdown",
   "metadata": {},
   "source": [
    "### 13. Write a NumPy program to find the most frequent value in an array.\n"
   ]
  },
  {
   "cell_type": "code",
   "execution_count": 38,
   "metadata": {},
   "outputs": [
    {
     "name": "stdout",
     "output_type": "stream",
     "text": [
      "[[8 6]\n",
      " [7 0]\n",
      " [0 6]\n",
      " [4 5]\n",
      " [1 3]\n",
      " [4 6]\n",
      " [5 6]\n",
      " [2 9]\n",
      " [6 0]\n",
      " [6 2]]\n",
      "[8 6 7 0 0 6 4 5 1 3 4 6 5 6 2 9 6 0 6 2]\n",
      "6\n"
     ]
    }
   ],
   "source": [
    "vec = np.random.randint(0, 10,20).reshape(10,2)\n",
    "print(vec)\n",
    "vec=vec.flatten()\n",
    "print(vec)\n",
    "frequent = np.bincount(vec).argmax()\n",
    "print(frequent)   "
   ]
  }
 ],
 "metadata": {
  "kernelspec": {
   "display_name": "Python 3",
   "language": "python",
   "name": "python3"
  },
  "language_info": {
   "codemirror_mode": {
    "name": "ipython",
    "version": 3
   },
   "file_extension": ".py",
   "mimetype": "text/x-python",
   "name": "python",
   "nbconvert_exporter": "python",
   "pygments_lexer": "ipython3",
   "version": "3.12.4"
  }
 },
 "nbformat": 4,
 "nbformat_minor": 2
}
