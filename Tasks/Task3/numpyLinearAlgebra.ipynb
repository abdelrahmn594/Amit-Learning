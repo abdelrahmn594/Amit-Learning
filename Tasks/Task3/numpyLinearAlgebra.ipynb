{
 "cells": [
  {
   "cell_type": "markdown",
   "metadata": {},
   "source": [
    "# Linear Algebra"
   ]
  },
  {
   "cell_type": "markdown",
   "metadata": {},
   "source": [
    "### 1. Write a NumPy program to compute the multiplication of two given matrixes."
   ]
  },
  {
   "cell_type": "code",
   "execution_count": 4,
   "metadata": {},
   "outputs": [
    {
     "name": "stdout",
     "output_type": "stream",
     "text": [
      "[[1 2]\n",
      " [3 4]]\n",
      "[[5 6]\n",
      " [7 8]]\n",
      "[[19 22]\n",
      " [43 50]]\n"
     ]
    }
   ],
   "source": [
    "import numpy as np \n",
    "m1=np.array([[1,2],[3,4]])\n",
    "m2=np.array([[5,6],[7,8]])\n",
    "print(m1)\n",
    "print(m2)\n",
    "print(np.dot(m1,m2))"
   ]
  },
  {
   "cell_type": "markdown",
   "metadata": {},
   "source": [
    "### 2. Write a NumPy program to compute the outer product of two given vectors."
   ]
  },
  {
   "cell_type": "code",
   "execution_count": 6,
   "metadata": {},
   "outputs": [
    {
     "data": {
      "text/plain": [
       "array([[ 5,  6,  7,  8],\n",
       "       [10, 12, 14, 16],\n",
       "       [15, 18, 21, 24],\n",
       "       [20, 24, 28, 32]])"
      ]
     },
     "execution_count": 6,
     "metadata": {},
     "output_type": "execute_result"
    }
   ],
   "source": [
    "v1 = [[1, 2], [3, 4]]\n",
    "v2 = [[5, 6], [7, 8]]\n",
    "result=np.outer(v1,v2)\n",
    "result"
   ]
  },
  {
   "cell_type": "markdown",
   "metadata": {},
   "source": [
    "### 3. Write a NumPy program to compute the cross product of two given vectors."
   ]
  },
  {
   "cell_type": "code",
   "execution_count": 8,
   "metadata": {},
   "outputs": [
    {
     "name": "stdout",
     "output_type": "stream",
     "text": [
      "[-4 -4]\n",
      "[4 4]\n"
     ]
    },
    {
     "name": "stderr",
     "output_type": "stream",
     "text": [
      "C:\\Users\\Lenovo\\AppData\\Local\\Temp\\ipykernel_18456\\2976099717.py:1: DeprecationWarning: Arrays of 2-dimensional vectors are deprecated. Use arrays of 3-dimensional vectors instead. (deprecated in NumPy 2.0)\n",
      "  result1=np.cross(v1,v2)\n",
      "C:\\Users\\Lenovo\\AppData\\Local\\Temp\\ipykernel_18456\\2976099717.py:2: DeprecationWarning: Arrays of 2-dimensional vectors are deprecated. Use arrays of 3-dimensional vectors instead. (deprecated in NumPy 2.0)\n",
      "  result2=np.cross(v2,v1)\n"
     ]
    }
   ],
   "source": [
    "result1=np.cross(v1,v2)\n",
    "result2=np.cross(v2,v1)\n",
    "print(f\"{result1}\\n{result2}\")"
   ]
  },
  {
   "cell_type": "markdown",
   "metadata": {},
   "source": [
    "### 4. Write a NumPy program to compute the determinant of a given square array."
   ]
  },
  {
   "cell_type": "code",
   "execution_count": 10,
   "metadata": {},
   "outputs": [
    {
     "name": "stdout",
     "output_type": "stream",
     "text": [
      "-2.0000000000000004\n"
     ]
    }
   ],
   "source": [
    "arr=np.array([[1,2],[3,4]])\n",
    "# linear algebra\n",
    "print(np.linalg.det(arr))\n"
   ]
  },
  {
   "cell_type": "markdown",
   "metadata": {},
   "source": [
    "### 5. Write a NumPy program to evaluate Einstein's summation convention of two given multidimensional arrays."
   ]
  },
  {
   "cell_type": "code",
   "execution_count": 12,
   "metadata": {},
   "outputs": [
    {
     "name": "stdout",
     "output_type": "stream",
     "text": [
      "[[ 7 10]\n",
      " [15 22]]\n"
     ]
    }
   ],
   "source": [
    "arr1=np.array([[1,2],[3,4]])\n",
    "arr2=np.array([[1,2],[3,4]])\n",
    "# mk row-column arr1 kn row-column arr2\n",
    "# shared k summation\n",
    "print(np.einsum(\"mk,kn\",arr1,arr2))"
   ]
  },
  {
   "cell_type": "markdown",
   "metadata": {},
   "source": [
    "### 6. Write a NumPy program to compute the inner product of vectors for 1-D arrays (without complex conjugation) and in higher dimension"
   ]
  },
  {
   "cell_type": "code",
   "execution_count": 13,
   "metadata": {},
   "outputs": [
    {
     "name": "stdout",
     "output_type": "stream",
     "text": [
      "14\n"
     ]
    }
   ],
   "source": [
    "v1=[1,2,3]\n",
    "v2=[1,2,3]\n",
    "print(np.inner(v1,v2))"
   ]
  },
  {
   "cell_type": "markdown",
   "metadata": {},
   "source": [
    "### 7. Write a NumPy program to compute the eigenvalues and right eigenvectors of a given square array."
   ]
  },
  {
   "cell_type": "code",
   "execution_count": 14,
   "metadata": {},
   "outputs": [
    {
     "name": "stdout",
     "output_type": "stream",
     "text": [
      "EigResult(eigenvalues=array([-0.37228132,  5.37228132]), eigenvectors=array([[-0.82456484, -0.41597356],\n",
      "       [ 0.56576746, -0.90937671]]))\n"
     ]
    }
   ],
   "source": [
    "arr=np.array([[1,2],[3,4]])\n",
    "print(np.linalg.eig(arr))"
   ]
  },
  {
   "cell_type": "markdown",
   "metadata": {},
   "source": [
    "### 8. Write a NumPy program to compute the Kronecker product of two given mulitdimension arrays."
   ]
  },
  {
   "cell_type": "code",
   "execution_count": 15,
   "metadata": {},
   "outputs": [
    {
     "name": "stdout",
     "output_type": "stream",
     "text": [
      "[[ 1  2  2  4]\n",
      " [ 3  4  6  8]\n",
      " [ 3  6  4  8]\n",
      " [ 9 12 12 16]]\n"
     ]
    }
   ],
   "source": [
    "arr1=np.array([[1,2],[3,4]])\n",
    "arr2=np.array([[1,2],[3,4]])\n",
    "print(np.kron(arr1,arr2))"
   ]
  },
  {
   "cell_type": "markdown",
   "metadata": {},
   "source": [
    "### 9. Write a NumPy program to compute the condition number of a given matrix.\n"
   ]
  },
  {
   "cell_type": "code",
   "execution_count": 16,
   "metadata": {},
   "outputs": [
    {
     "name": "stdout",
     "output_type": "stream",
     "text": [
      "14.933034373659268\n"
     ]
    }
   ],
   "source": [
    "m1=np.array([[1,2],[3,4]])\n",
    "print(np.linalg.cond(m1))"
   ]
  },
  {
   "cell_type": "markdown",
   "metadata": {},
   "source": [
    "### 10. Write a NumPy program to find a matrix or vector norm."
   ]
  },
  {
   "cell_type": "code",
   "execution_count": 17,
   "metadata": {},
   "outputs": [
    {
     "name": "stdout",
     "output_type": "stream",
     "text": [
      "5.477225575051661\n"
     ]
    }
   ],
   "source": [
    "print(np.linalg.norm(m1))"
   ]
  },
  {
   "cell_type": "markdown",
   "metadata": {},
   "source": [
    "### 11. Write a NumPy program to compute the determinant of an array."
   ]
  },
  {
   "cell_type": "code",
   "execution_count": 19,
   "metadata": {},
   "outputs": [
    {
     "name": "stdout",
     "output_type": "stream",
     "text": [
      "0.0\n"
     ]
    }
   ],
   "source": [
    "arr=np.array([[2,2],[4,4]])\n",
    "print(np.linalg.det(arr))             "
   ]
  },
  {
   "cell_type": "markdown",
   "metadata": {},
   "source": [
    "### 12. Write a NumPy program to compute the inverse of a given matrix."
   ]
  },
  {
   "cell_type": "code",
   "execution_count": 20,
   "metadata": {},
   "outputs": [
    {
     "name": "stdout",
     "output_type": "stream",
     "text": [
      "[[-0.30645161  0.33870968  0.12903226]\n",
      " [-0.16129032 -0.03225806  0.22580645]\n",
      " [ 0.51612903 -0.09677419 -0.32258065]]\n"
     ]
    }
   ],
   "source": [
    "m1=np.array([[2,6,5],[4,2,3],[2,9,4]])\n",
    "print(np.linalg.inv(m1))"
   ]
  },
  {
   "cell_type": "markdown",
   "metadata": {},
   "source": [
    "### 13. Write a NumPy program to calculate the QR decomposition of a given matrix"
   ]
  },
  {
   "cell_type": "code",
   "execution_count": 21,
   "metadata": {},
   "outputs": [
    {
     "name": "stdout",
     "output_type": "stream",
     "text": [
      "QRResult(Q=array([[-0.40824829,  0.36326777, -0.83747828],\n",
      "       [-0.81649658, -0.555586  ,  0.15702718],\n",
      "       [-0.40824829,  0.74790423,  0.52342392]]), R=array([[-4.89897949, -7.75671752, -6.12372436],\n",
      "       [ 0.        ,  7.79957264,  3.14119775],\n",
      "       [ 0.        ,  0.        , -1.62261416]]))\n"
     ]
    }
   ],
   "source": [
    "print(np.linalg.qr(m1))"
   ]
  },
  {
   "cell_type": "markdown",
   "metadata": {},
   "source": [
    "### 14. Write a NumPy program to compute the condition number of a given matrix."
   ]
  },
  {
   "cell_type": "code",
   "execution_count": 22,
   "metadata": {},
   "outputs": [
    {
     "name": "stdout",
     "output_type": "stream",
     "text": [
      "14.933034373659268\n"
     ]
    }
   ],
   "source": [
    "m1=np.array([[1,2],[3,4]])\n",
    "print(np.linalg.cond(m1))"
   ]
  },
  {
   "cell_type": "markdown",
   "metadata": {},
   "source": [
    "### 15. Write a NumPy program to compute the sum of the diagonal element of a given array."
   ]
  },
  {
   "cell_type": "code",
   "execution_count": 24,
   "metadata": {},
   "outputs": [
    {
     "name": "stdout",
     "output_type": "stream",
     "text": [
      "6\n",
      "6\n"
     ]
    }
   ],
   "source": [
    "arr=np.array([[2,2],[4,4]])\n",
    "print(np.sum(np.diag(arr)))\n",
    "# or \n",
    "print(np.trace(arr))"
   ]
  },
  {
   "cell_type": "markdown",
   "metadata": {},
   "source": [
    "### 16. Write a NumPy program to get the lower-triangular L in the Cholesky decomposition of a given array."
   ]
  },
  {
   "cell_type": "code",
   "execution_count": 36,
   "metadata": {},
   "outputs": [
    {
     "name": "stdout",
     "output_type": "stream",
     "text": [
      "[[ 1.41421356  0.          0.        ]\n",
      " [ 2.12132034  5.70087713  0.        ]\n",
      " [ 7.07106781 -6.49022934  2.4242366 ]]\n"
     ]
    }
   ],
   "source": [
    "arr=np.array([[2, 3, 10], [3, 37, -22], [10, -22, 98]],dtype='int32')\n",
    "# triangular L\n",
    "print(np.linalg.cholesky(arr))"
   ]
  },
  {
   "cell_type": "markdown",
   "metadata": {},
   "source": [
    "### 17. Write a NumPy program to get the qr factorization of a given array."
   ]
  },
  {
   "cell_type": "code",
   "execution_count": 39,
   "metadata": {},
   "outputs": [
    {
     "name": "stdout",
     "output_type": "stream",
     "text": [
      "QRResult(Q=array([[-0.94174191, -0.3363364 ],\n",
      "       [-0.3363364 ,  0.94174191]]), R=array([[-14.86606875,  -9.88829007],\n",
      "       [  0.        ,   3.90150221]]))\n"
     ]
    }
   ],
   "source": [
    "arr=np.array([[14,8],[5,7]])\n",
    "print(np.linalg.qr(arr))"
   ]
  },
  {
   "cell_type": "markdown",
   "metadata": {},
   "source": [
    "### 18. Write a NumPy program to compute the factor of a given array by Singular Value Decomposition."
   ]
  },
  {
   "cell_type": "code",
   "execution_count": null,
   "metadata": {},
   "outputs": [],
   "source": []
  },
  {
   "cell_type": "markdown",
   "metadata": {},
   "source": [
    "### 19. Write a NumPy program to calculate the Frobenius norm and the condition number of a given array."
   ]
  },
  {
   "cell_type": "code",
   "execution_count": null,
   "metadata": {},
   "outputs": [],
   "source": [
    "arr = np.arange(1, 10).reshape((3, 3))\n",
    "print(arr)\n",
    "# frobenius norm\n",
    "print(np.linalg.norm(arr, 'fro')) \n",
    "print(np.linalg.cond(arr, 'fro')) "
   ]
  }
 ],
 "metadata": {
  "kernelspec": {
   "display_name": "Python 3",
   "language": "python",
   "name": "python3"
  },
  "language_info": {
   "codemirror_mode": {
    "name": "ipython",
    "version": 3
   },
   "file_extension": ".py",
   "mimetype": "text/x-python",
   "name": "python",
   "nbconvert_exporter": "python",
   "pygments_lexer": "ipython3",
   "version": "3.12.4"
  }
 },
 "nbformat": 4,
 "nbformat_minor": 2
}
