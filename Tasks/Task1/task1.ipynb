{
 "cells": [
  {
   "cell_type": "markdown",
   "metadata": {},
   "source": [
    "### Q1. Write a program to calculate the area of a rectangle with given length and width.\n",
    "    area = length * width"
   ]
  },
  {
   "cell_type": "code",
   "execution_count": 5,
   "metadata": {},
   "outputs": [
    {
     "name": "stdout",
     "output_type": "stream",
     "text": [
      "area = 12\n"
     ]
    }
   ],
   "source": [
    "length=2\n",
    "width=6\n",
    "print(\"area =\",length*width)"
   ]
  },
  {
   "cell_type": "markdown",
   "metadata": {},
   "source": [
    "### Q2. Write a program that takes an integer input from the user and prints whether it's even or odd.\n",
    "    Even Numbers: 0, 2, 4, 6, 8, ...\n",
    "    OOD Numbers: 1, 3, 5, 7, 9, ..."
   ]
  },
  {
   "cell_type": "code",
   "execution_count": 12,
   "metadata": {},
   "outputs": [
    {
     "name": "stdout",
     "output_type": "stream",
     "text": [
      "The number you have entered is even\n"
     ]
    }
   ],
   "source": [
    "number=int(input(\"Enter a number\"))\n",
    "if (number%2==0):\n",
    "    print(\"The number you have entered is even\")\n",
    "else:\n",
    "    print(\"The number you have entered is odd\")"
   ]
  },
  {
   "cell_type": "markdown",
   "metadata": {},
   "source": [
    "### Q3. Write a program that takes a three-digit number as input and calculates the sum of its digits."
   ]
  },
  {
   "cell_type": "code",
   "execution_count": 5,
   "metadata": {},
   "outputs": [
    {
     "name": "stdout",
     "output_type": "stream",
     "text": [
      "The sum of these numbers is = 3\n"
     ]
    }
   ],
   "source": [
    "x=input(\"enter 3-digits number\")\n",
    "if len(x)==3:\n",
    "    x1=int(x[0:1])\n",
    "    x2=int(x[1:2])\n",
    "    x3=int(x[2:3])\n",
    "    sum=x1+x2+x3\n",
    "    print(\"The sum is =\",sum)\n",
    "else:\n",
    "    print(\"try again and enter only 3-digits\")"
   ]
  },
  {
   "cell_type": "markdown",
   "metadata": {},
   "source": [
    "### Q4. Create two strings and concatenate them to form a third string."
   ]
  },
  {
   "cell_type": "code",
   "execution_count": 20,
   "metadata": {},
   "outputs": [
    {
     "name": "stdout",
     "output_type": "stream",
     "text": [
      "Abdel\n",
      "rahman\n",
      "Abdelrahman\n"
     ]
    }
   ],
   "source": [
    "string1=\"Abdel\"\n",
    "string2=\"rahman\"\n",
    "string3=string1+string2\n",
    "print(string1)\n",
    "print(string2)\n",
    "print(string3)"
   ]
  },
  {
   "cell_type": "markdown",
   "metadata": {},
   "source": [
    "### Q5. Write a program that compares two numbers and prints whether the first number is greater, smaller, or equal to the second number."
   ]
  },
  {
   "cell_type": "code",
   "execution_count": 26,
   "metadata": {},
   "outputs": [
    {
     "name": "stdout",
     "output_type": "stream",
     "text": [
      "x equals to y\n"
     ]
    }
   ],
   "source": [
    "x=int(input(\"enter x\"))\n",
    "y=int(input(\"enter y\"))\n",
    "if x>y:\n",
    "    print(\"x is greater than y\")\n",
    "elif x==y:\n",
    "    print(\"x equals to y\")\n",
    "else:\n",
    "    print(\"y is greater than x\")"
   ]
  },
  {
   "cell_type": "markdown",
   "metadata": {},
   "source": [
    "### Q6. Write a program that takes a string as input and prints it in reverse order.\n",
    "    ahmed => demha"
   ]
  },
  {
   "cell_type": "code",
   "execution_count": 34,
   "metadata": {},
   "outputs": [
    {
     "name": "stdout",
     "output_type": "stream",
     "text": [
      "abdo => odba\n"
     ]
    }
   ],
   "source": [
    "x=input(\"Enter a string\")\n",
    "print(x + \" => \" + x[::-1])\n"
   ]
  },
  {
   "cell_type": "markdown",
   "metadata": {},
   "source": [
    "### Q7. Write a program that takes a number as input and prints \"Positive\" if it's greater than 0, \"Negative\" if it's less than 0, and \"Zero\" if it's equal to 0."
   ]
  },
  {
   "cell_type": "code",
   "execution_count": 37,
   "metadata": {},
   "outputs": [
    {
     "name": "stdout",
     "output_type": "stream",
     "text": [
      "Negative\n"
     ]
    }
   ],
   "source": [
    "x=int(input(\"enter a number\"))\n",
    "if x>0:\n",
    "    print(\"Positive\")\n",
    "elif x==0:\n",
    "    print(\"Zero\")\n",
    "else:\n",
    "    print(\"Negative\")"
   ]
  },
  {
   "cell_type": "markdown",
   "metadata": {},
   "source": [
    "### Q8. Write a program that converts Fahrenheit to Celsius. Take Fahrenheit as input from the user.\n",
    "    Temperature in degrees Celsius (°C) = (Temperature in degrees Fahrenheit (°F) - 32) * 5/9"
   ]
  },
  {
   "cell_type": "code",
   "execution_count": 39,
   "metadata": {},
   "outputs": [
    {
     "name": "stdout",
     "output_type": "stream",
     "text": [
      "Temprature in degrees Celsius = 43\n"
     ]
    }
   ],
   "source": [
    "fahrenheit=int(input(\"Enter temprature with fahrenheit\"))\n",
    "print(\"Temprature in degrees Celsius =\",int((fahrenheit-32)*(5/9)))"
   ]
  },
  {
   "cell_type": "markdown",
   "metadata": {},
   "source": [
    "### Q9. Write a program that takes a string as input and counts the number of characters in it.\n",
    "    ahmed => 5"
   ]
  },
  {
   "cell_type": "code",
   "execution_count": 42,
   "metadata": {},
   "outputs": [
    {
     "name": "stdout",
     "output_type": "stream",
     "text": [
      "abdo = >  4\n"
     ]
    }
   ],
   "source": [
    "x=input(\"enter string\")\n",
    "print(x + \" = > \" , len(x))"
   ]
  },
  {
   "cell_type": "markdown",
   "metadata": {},
   "source": [
    "### Q10. Write a program that takes three numbers as input and prints the maximum of those numbers."
   ]
  },
  {
   "cell_type": "code",
   "execution_count": null,
   "metadata": {},
   "outputs": [],
   "source": [
    "x=int(input(\"enter first number\"))\n",
    "y=int(input(\"enter second number\"))\n",
    "z=int(input(\"enter third number\"))\n",
    "if x>y and x>z:\n",
    "    print(\"x is the maximum number\")\n",
    "elif y>x and y>z:\n",
    "    print(\"y is the maximum number\")\n",
    "else:\n",
    "    print(\"z is the maximum number\")"
   ]
  },
  {
   "cell_type": "markdown",
   "metadata": {},
   "source": [
    "### Q11. Create two lists and concatenate them to form a third list."
   ]
  },
  {
   "cell_type": "code",
   "execution_count": 43,
   "metadata": {},
   "outputs": [
    {
     "data": {
      "text/plain": [
       "[1, 2, 3, 4, 5, 6]"
      ]
     },
     "execution_count": 43,
     "metadata": {},
     "output_type": "execute_result"
    }
   ],
   "source": [
    "l1=[1,2,3]\n",
    "l2=[4,5,6]\n",
    "l3=l1+l2\n",
    "l3"
   ]
  },
  {
   "cell_type": "markdown",
   "metadata": {},
   "source": [
    "### Q12. Write a program that takes a string as input and checks whether it's a palindrome.\n",
    "    radar, level, madam, ..."
   ]
  },
  {
   "cell_type": "code",
   "execution_count": 46,
   "metadata": {},
   "outputs": [
    {
     "name": "stdout",
     "output_type": "stream",
     "text": [
      "Not Palindrome\n"
     ]
    }
   ],
   "source": [
    "x=input()\n",
    "if x==x[::-1]:\n",
    "    print(\"Palindrome\")\n",
    "else:\n",
    "    print(\"Not Palindrome\")"
   ]
  },
  {
   "cell_type": "markdown",
   "metadata": {},
   "source": [
    "### Q13. Write a program that takes three numbers as input and prints their average."
   ]
  },
  {
   "cell_type": "code",
   "execution_count": 47,
   "metadata": {},
   "outputs": [
    {
     "name": "stdout",
     "output_type": "stream",
     "text": [
      "The avg is = 2.0\n"
     ]
    }
   ],
   "source": [
    "x=int(input(\"enter first number\"))\n",
    "y=int(input(\"enter second number\"))\n",
    "z=int(input(\"enter third number\"))\n",
    "avg=(x+y+z)/3\n",
    "print(\"The avg is =\",avg)"
   ]
  },
  {
   "cell_type": "markdown",
   "metadata": {},
   "source": [
    "### Q14. Write a program that takes two numbers as input and checks whether the first number is divisible by the second number."
   ]
  },
  {
   "cell_type": "code",
   "execution_count": 59,
   "metadata": {},
   "outputs": [
    {
     "name": "stdout",
     "output_type": "stream",
     "text": [
      "divisible\n"
     ]
    }
   ],
   "source": [
    "x=int(input(\"enter first number\"))\n",
    "y=int(input(\"enter second number\"))\n",
    "if y%x==0:\n",
    "    print(\"divisible\")\n",
    "else:\n",
    "    print(\"not divisible\")"
   ]
  },
  {
   "cell_type": "markdown",
   "metadata": {},
   "source": [
    "### Q15. Write a program that takes two numbers and an operator (+, -, *, /) as input and performs the corresponding operation."
   ]
  },
  {
   "cell_type": "code",
   "execution_count": 61,
   "metadata": {},
   "outputs": [
    {
     "name": "stdout",
     "output_type": "stream",
     "text": [
      "invalid operator\n"
     ]
    }
   ],
   "source": [
    "x=int(input(\"enter first number\"))\n",
    "y=int(input(\"enter second number\"))\n",
    "operator=input(\"Enter an operator(+,-,*,/)\")\n",
    "if operator==\"+\":\n",
    "    print(x,\"+\",y,\"=\",x+y)\n",
    "elif operator==\"-\":\n",
    "    print(x,\"-\",y,\"=\",x-y)\n",
    "elif operator==\"+\":\n",
    "    print(x,\"*\",y,\"=\",x*y)\n",
    "elif operator==\"/\":\n",
    "    print(x,\"/\",y,\"=\",x/y)\n",
    "else:\n",
    "    print(\"invalid operator\")"
   ]
  },
  {
   "cell_type": "markdown",
   "metadata": {},
   "source": [
    "### Q16. Write a program that takes three numbers as input and prints the minimum of those numbers."
   ]
  },
  {
   "cell_type": "code",
   "execution_count": null,
   "metadata": {},
   "outputs": [],
   "source": [
    "x=int(input(\"enter first number\"))\n",
    "y=int(input(\"enter second number\"))\n",
    "z=int(input(\"enter third number\"))\n",
    "if x<y and x<z:\n",
    "    print(\"x is the minimum number\")\n",
    "elif y<x and y<z:\n",
    "    print(\"y is the minimum number\")\n",
    "else:\n",
    "    print(\"z is the minimum number\")"
   ]
  },
  {
   "cell_type": "markdown",
   "metadata": {},
   "source": [
    "### Q17. Write a program that takes a string as input and prints its length."
   ]
  },
  {
   "cell_type": "code",
   "execution_count": 62,
   "metadata": {},
   "outputs": [
    {
     "name": "stdout",
     "output_type": "stream",
     "text": [
      "abdo\n"
     ]
    },
    {
     "data": {
      "text/plain": [
       "4"
      ]
     },
     "execution_count": 62,
     "metadata": {},
     "output_type": "execute_result"
    }
   ],
   "source": [
    "x=input()\n",
    "print(x)\n",
    "len(x)"
   ]
  },
  {
   "cell_type": "markdown",
   "metadata": {},
   "source": [
    "### Q18. Create a list of numbers and write a program to find the sum of all elements in the list."
   ]
  },
  {
   "cell_type": "code",
   "execution_count": 68,
   "metadata": {},
   "outputs": [
    {
     "name": "stdout",
     "output_type": "stream",
     "text": [
      "[1, 2, 3, 4, 5, 6, 7, 8, 9, 10]\n",
      "55\n"
     ]
    }
   ],
   "source": [
    "l1=[]\n",
    "while(True):\n",
    "    x=input(\"enter numbers in the list or 'done' if finished\")\n",
    "    if str(x)=='done':\n",
    "        break\n",
    "    l1.append(int(x))\n",
    "print(l1)\n",
    "sum=0\n",
    "for i in range(len(l1)):\n",
    "    sum=sum+l1[i]\n",
    "print(sum)   "
   ]
  },
  {
   "cell_type": "markdown",
   "metadata": {},
   "source": [
    "### Q19. Write a program that takes a string as input and prints it in both uppercase and lowercase."
   ]
  },
  {
   "cell_type": "code",
   "execution_count": 69,
   "metadata": {},
   "outputs": [
    {
     "name": "stdout",
     "output_type": "stream",
     "text": [
      "abdo\n",
      "ABDO\n"
     ]
    }
   ],
   "source": [
    "x=input()\n",
    "print(x.lower())\n",
    "print(x.upper())"
   ]
  }
 ],
 "metadata": {
  "kernelspec": {
   "display_name": "Python 3",
   "language": "python",
   "name": "python3"
  },
  "language_info": {
   "codemirror_mode": {
    "name": "ipython",
    "version": 3
   },
   "file_extension": ".py",
   "mimetype": "text/x-python",
   "name": "python",
   "nbconvert_exporter": "python",
   "pygments_lexer": "ipython3",
   "version": "3.12.4"
  }
 },
 "nbformat": 4,
 "nbformat_minor": 2
}
